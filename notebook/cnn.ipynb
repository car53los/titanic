{
 "cells": [
  {
   "cell_type": "code",
   "execution_count": 1,
   "metadata": {
    "colab": {
     "autoexec": {
      "startup": false,
      "wait_interval": 0
     },
     "base_uri": "https://localhost:8080/",
     "height": 34
    },
    "colab_type": "code",
    "executionInfo": {
     "elapsed": 8168,
     "status": "ok",
     "timestamp": 1524226100285,
     "user": {
      "displayName": "Kazuya Gokita",
      "photoUrl": "https://lh3.googleusercontent.com/a/default-user=s128",
      "userId": "112525051699170179529"
     },
     "user_tz": -540
    },
    "id": "Rxhdcx13dv5a",
    "outputId": "ea542078-2d06-435e-9d8f-c69387c3968b"
   },
   "outputs": [
    {
     "name": "stderr",
     "output_type": "stream",
     "text": [
      "/anaconda3/lib/python3.6/site-packages/h5py/__init__.py:36: FutureWarning: Conversion of the second argument of issubdtype from `float` to `np.floating` is deprecated. In future, it will be treated as `np.float64 == np.dtype(float).type`.\n",
      "  from ._conv import register_converters as _register_converters\n",
      "Using TensorFlow backend.\n"
     ]
    }
   ],
   "source": [
    "from keras.models import Sequential\n",
    "from keras.layers.convolutional import Conv2D\n",
    "from keras.layers.pooling import MaxPool2D\n",
    "from keras.optimizers import Adam\n",
    "\n",
    "from keras.layers.core import Dense, Activation, Dropout, Flatten\n",
    "from keras.utils import plot_model\n",
    "from keras.callbacks import TensorBoard\n",
    "\n",
    "from keras.datasets import cifar10\n",
    "from keras.utils import np_utils"
   ]
  },
  {
   "cell_type": "code",
   "execution_count": 2,
   "metadata": {
    "colab": {
     "autoexec": {
      "startup": false,
      "wait_interval": 0
     }
    },
    "colab_type": "code",
    "id": "GMBH-iM7eCTr"
   },
   "outputs": [
    {
     "name": "stdout",
     "output_type": "stream",
     "text": [
      "Downloading data from https://www.cs.toronto.edu/~kriz/cifar-10-python.tar.gz\n",
      "170500096/170498071 [==============================] - 74s 0us/step\n"
     ]
    }
   ],
   "source": [
    "(X_train, y_train),(X_test, y_test) = cifar10.load_data()\n"
   ]
  },
  {
   "cell_type": "code",
   "execution_count": 4,
   "metadata": {},
   "outputs": [
    {
     "data": {
      "text/plain": [
       "(50000, 32, 32, 3)"
      ]
     },
     "execution_count": 4,
     "metadata": {},
     "output_type": "execute_result"
    }
   ],
   "source": [
    "X_train.shape"
   ]
  },
  {
   "cell_type": "code",
   "execution_count": 5,
   "metadata": {
    "colab": {
     "autoexec": {
      "startup": false,
      "wait_interval": 0
     }
    },
    "colab_type": "code",
    "id": "AVvKcZ5GeG5l"
   },
   "outputs": [],
   "source": [
    "# floatに変換しておく\n",
    "X_train = X_train.astype('float32')\n",
    "X_test = X_test.astype('float32')\n",
    "\n",
    "# 正規化\n",
    "X_train /= 255.0\n",
    "X_test /= 255.0\n",
    "\n",
    "# one-hot vector に変換したほうが都合が良い\n",
    "n_classes = 10\n",
    "Y_train = np_utils.to_categorical(y_train, n_classes)\n",
    "Y_test = np_utils.to_categorical(y_test, n_classes)"
   ]
  },
  {
   "cell_type": "code",
   "execution_count": 7,
   "metadata": {},
   "outputs": [
    {
     "data": {
      "text/plain": [
       "array([[0., 0., 0., ..., 0., 0., 0.],\n",
       "       [0., 0., 0., ..., 0., 0., 1.],\n",
       "       [0., 0., 0., ..., 0., 0., 1.],\n",
       "       ...,\n",
       "       [0., 0., 0., ..., 0., 0., 1.],\n",
       "       [0., 1., 0., ..., 0., 0., 0.],\n",
       "       [0., 1., 0., ..., 0., 0., 0.]], dtype=float32)"
      ]
     },
     "execution_count": 7,
     "metadata": {},
     "output_type": "execute_result"
    }
   ],
   "source": [
    "Y_train"
   ]
  },
  {
   "cell_type": "code",
   "execution_count": 18,
   "metadata": {
    "colab": {
     "autoexec": {
      "startup": false,
      "wait_interval": 0
     },
     "base_uri": "https://localhost:8080/",
     "height": 1020
    },
    "colab_type": "code",
    "executionInfo": {
     "elapsed": 773,
     "status": "ok",
     "timestamp": 1524185815189,
     "user": {
      "displayName": "Kazuya Gokita",
      "photoUrl": "https://lh3.googleusercontent.com/a/default-user=s128",
      "userId": "112525051699170179529"
     },
     "user_tz": -540
    },
    "id": "lTwq050qedrJ",
    "outputId": "aa43afea-0e72-4c57-d476-ffa92be58779"
   },
   "outputs": [
    {
     "name": "stdout",
     "output_type": "stream",
     "text": [
      "_________________________________________________________________\n",
      "Layer (type)                 Output Shape              Param #   \n",
      "=================================================================\n",
      "conv2d_36 (Conv2D)           (None, 32, 32, 32)        896       \n",
      "_________________________________________________________________\n",
      "activation_43 (Activation)   (None, 32, 32, 32)        0         \n",
      "_________________________________________________________________\n",
      "conv2d_37 (Conv2D)           (None, 32, 32, 32)        9248      \n",
      "_________________________________________________________________\n",
      "activation_44 (Activation)   (None, 32, 32, 32)        0         \n",
      "_________________________________________________________________\n",
      "conv2d_38 (Conv2D)           (None, 32, 32, 32)        9248      \n",
      "_________________________________________________________________\n",
      "activation_45 (Activation)   (None, 32, 32, 32)        0         \n",
      "_________________________________________________________________\n",
      "max_pooling2d_18 (MaxPooling (None, 16, 16, 32)        0         \n",
      "_________________________________________________________________\n",
      "conv2d_39 (Conv2D)           (None, 16, 16, 64)        18496     \n",
      "_________________________________________________________________\n",
      "activation_46 (Activation)   (None, 16, 16, 64)        0         \n",
      "_________________________________________________________________\n",
      "conv2d_40 (Conv2D)           (None, 16, 16, 64)        36928     \n",
      "_________________________________________________________________\n",
      "activation_47 (Activation)   (None, 16, 16, 64)        0         \n",
      "_________________________________________________________________\n",
      "conv2d_41 (Conv2D)           (None, 16, 16, 64)        36928     \n",
      "_________________________________________________________________\n",
      "activation_48 (Activation)   (None, 16, 16, 64)        0         \n",
      "_________________________________________________________________\n",
      "max_pooling2d_19 (MaxPooling (None, 8, 8, 64)          0         \n",
      "_________________________________________________________________\n",
      "conv2d_42 (Conv2D)           (None, 8, 8, 128)         73856     \n",
      "_________________________________________________________________\n",
      "activation_49 (Activation)   (None, 8, 8, 128)         0         \n",
      "_________________________________________________________________\n",
      "conv2d_43 (Conv2D)           (None, 8, 8, 128)         147584    \n",
      "_________________________________________________________________\n",
      "activation_50 (Activation)   (None, 8, 8, 128)         0         \n",
      "_________________________________________________________________\n",
      "conv2d_44 (Conv2D)           (None, 8, 8, 128)         147584    \n",
      "_________________________________________________________________\n",
      "activation_51 (Activation)   (None, 8, 8, 128)         0         \n",
      "_________________________________________________________________\n",
      "max_pooling2d_20 (MaxPooling (None, 4, 4, 128)         0         \n",
      "_________________________________________________________________\n",
      "flatten_8 (Flatten)          (None, 2048)              0         \n",
      "_________________________________________________________________\n",
      "dense_18 (Dense)             (None, 1024)              2098176   \n",
      "_________________________________________________________________\n",
      "dropout_6 (Dropout)          (None, 1024)              0         \n",
      "_________________________________________________________________\n",
      "activation_52 (Activation)   (None, 1024)              0         \n",
      "_________________________________________________________________\n",
      "dense_19 (Dense)             (None, 10)                10250     \n",
      "=================================================================\n",
      "Total params: 2,589,194\n",
      "Trainable params: 2,589,194\n",
      "Non-trainable params: 0\n",
      "_________________________________________________________________\n"
     ]
    }
   ],
   "source": [
    "# モデルの定義\n",
    "model = Sequential()\n",
    "\n",
    "model.add(Conv2D(32,(3,3), padding='same', input_shape=(32,32,3)))\n",
    "model.add(Activation('relu'))\n",
    "model.add(Conv2D(32,(3,3), padding='same'))\n",
    "model.add(Activation('relu'))\n",
    "model.add(Conv2D(32,(3,3), padding='same'))\n",
    "model.add(Activation('relu'))\n",
    "\n",
    "model.add(MaxPool2D(pool_size=(2,2)))\n",
    "\n",
    "\n",
    "model.add(Flatten())\n",
    "model.add(Dense(1024))\n",
    "model.add(Activation('relu'))\n",
    "\n",
    "model.add(Dense(n_classes, activation='softmax'))\n",
    "\n",
    "adam = Adam(lr=1e-3)\n",
    "\n",
    "model.compile(optimizer=adam, loss='categorical_crossentropy', metrics=[\"accuracy\"])\n",
    "\n",
    "model.summary()"
   ]
  },
  {
   "cell_type": "code",
   "execution_count": 20,
   "metadata": {
    "colab": {
     "autoexec": {
      "startup": false,
      "wait_interval": 0
     },
     "base_uri": "https://localhost:8080/",
     "height": 394
    },
    "colab_type": "code",
    "executionInfo": {
     "elapsed": 339544,
     "status": "ok",
     "timestamp": 1524186301921,
     "user": {
      "displayName": "Kazuya Gokita",
      "photoUrl": "https://lh3.googleusercontent.com/a/default-user=s128",
      "userId": "112525051699170179529"
     },
     "user_tz": -540
    },
    "id": "gonNGQGMej81",
    "outputId": "5fb77b95-fcdb-474f-8e15-29511044b423"
   },
   "outputs": [
    {
     "name": "stdout",
     "output_type": "stream",
     "text": [
      "Train on 45000 samples, validate on 5000 samples\n",
      "Epoch 1/10\n",
      "45000/45000 [==============================] - 34s 755us/step - loss: 0.7662 - acc: 0.7276 - val_loss: 0.7675 - val_acc: 0.7292\n",
      "Epoch 2/10\n",
      "12350/45000 [=======>......................] - ETA: 23s - loss: 0.6526 - acc: 0.771645000/45000 [==============================] - 34s 754us/step - loss: 0.6828 - acc: 0.7584 - val_loss: 0.7569 - val_acc: 0.7406\n",
      "Epoch 3/10\n",
      "32450/45000 [====================>.........] - ETA: 9s - loss: 0.6086 - acc: 0.785545000/45000 [==============================] - 34s 755us/step - loss: 0.6132 - acc: 0.7830 - val_loss: 0.7539 - val_acc: 0.7436\n",
      "Epoch 4/10\n",
      "40050/45000 [=========================>....] - ETA: 3s - loss: 0.5507 - acc: 0.803845000/45000 [==============================] - 34s 753us/step - loss: 0.5538 - acc: 0.8032 - val_loss: 0.7839 - val_acc: 0.7492\n",
      "Epoch 5/10\n",
      "42850/45000 [===========================>..] - ETA: 1s - loss: 0.4963 - acc: 0.823345000/45000 [==============================] - 34s 751us/step - loss: 0.4968 - acc: 0.8229 - val_loss: 0.7810 - val_acc: 0.7558\n",
      "Epoch 6/10\n",
      "43950/45000 [============================>.] - ETA: 0s - loss: 0.4475 - acc: 0.841745000/45000 [==============================] - 34s 754us/step - loss: 0.4481 - acc: 0.8413 - val_loss: 0.7674 - val_acc: 0.7622\n",
      "Epoch 7/10\n",
      "44350/45000 [============================>.] - ETA: 0s - loss: 0.4086 - acc: 0.856345000/45000 [==============================] - 34s 754us/step - loss: 0.4091 - acc: 0.8560 - val_loss: 0.8460 - val_acc: 0.7388\n",
      "Epoch 8/10\n",
      "44450/45000 [============================>.] - ETA: 0s - loss: 0.3784 - acc: 0.867045000/45000 [==============================] - 34s 750us/step - loss: 0.3784 - acc: 0.8671 - val_loss: 0.8499 - val_acc: 0.7578\n",
      "Epoch 9/10\n",
      "44550/45000 [============================>.] - ETA: 0s - loss: 0.3476 - acc: 0.875945000/45000 [==============================] - 34s 752us/step - loss: 0.3481 - acc: 0.8757 - val_loss: 0.8243 - val_acc: 0.7598\n",
      "Epoch 10/10\n",
      "44350/45000 [============================>.] - ETA: 0s - loss: 0.3270 - acc: 0.885345000/45000 [==============================] - 34s 755us/step - loss: 0.3273 - acc: 0.8852 - val_loss: 0.8732 - val_acc: 0.7632\n"
     ]
    }
   ],
   "source": [
    "batch_size = 50\n",
    "nb_epoch = 10\n",
    "validation_split=0.1\n",
    "\n",
    "history = model.fit(X_train, Y_train, batch_size=batch_size, epochs=nb_epoch, verbose=1, validation_split=validation_split)\n"
   ]
  }
 ],
 "metadata": {
  "accelerator": "GPU",
  "colab": {
   "collapsed_sections": [],
   "default_view": {},
   "name": "cnn.ipynb のコピー",
   "provenance": [
    {
     "file_id": "1ffEGlFKNzoK_bcJO70-MOzP4hz33KTHK",
     "timestamp": 1524184357597
    }
   ],
   "version": "0.3.2",
   "views": {}
  },
  "kernelspec": {
   "display_name": "Python 3",
   "language": "python",
   "name": "python3"
  },
  "language_info": {
   "codemirror_mode": {
    "name": "ipython",
    "version": 3
   },
   "file_extension": ".py",
   "mimetype": "text/x-python",
   "name": "python",
   "nbconvert_exporter": "python",
   "pygments_lexer": "ipython3",
   "version": "3.6.5"
  }
 },
 "nbformat": 4,
 "nbformat_minor": 1
}
