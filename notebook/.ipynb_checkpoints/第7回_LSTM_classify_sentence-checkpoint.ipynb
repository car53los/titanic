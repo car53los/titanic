{
 "cells": [
  {
   "cell_type": "code",
   "execution_count": 0,
   "metadata": {
    "colab": {
     "autoexec": {
      "startup": false,
      "wait_interval": 0
     }
    },
    "colab_type": "code",
    "id": "mIg7kUkk-fwe"
   },
   "outputs": [],
   "source": [
    "from keras.models import Sequential\n",
    "from keras.datasets import imdb\n",
    "from keras.layers import Dense, Activation, Embedding, LSTM, GRU, SimpleRNN\n",
    "from keras.optimizers import Adadelta\n",
    "from keras.utils import np_utils, to_categorical\n",
    "from keras.preprocessing import sequence\n",
    "import numpy as np\n",
    "\n",
    "from matplotlib import pyplot as plt"
   ]
  },
  {
   "cell_type": "code",
   "execution_count": 0,
   "metadata": {
    "colab": {
     "autoexec": {
      "startup": false,
      "wait_interval": 0
     }
    },
    "colab_type": "code",
    "id": "WkUjSjuH-0Xo"
   },
   "outputs": [],
   "source": [
    "max_features = 20000\n",
    "\n",
    "(X_train, y_train), (X_test, y_test) = imdb.load_data(num_words=max_features)\n",
    "maxlen=180\n",
    "X_train = sequence.pad_sequences(X_train, maxlen=maxlen)\n",
    "X_test = sequence.pad_sequences(X_test, maxlen=maxlen)"
   ]
  },
  {
   "cell_type": "code",
   "execution_count": 0,
   "metadata": {
    "colab": {
     "autoexec": {
      "startup": false,
      "wait_interval": 0
     }
    },
    "colab_type": "code",
    "id": "9auGMfoT-2rx"
   },
   "outputs": [],
   "source": [
    "print(X_train.shape) # ⇛ 25000件のデータが180次元ある\n",
    "print(X_train[0]) # ⇛ 0件目のデータをprint\n",
    "print(y_train) # ⇛ positive, negaitveの二値のデータが入っている."
   ]
  },
  {
   "cell_type": "code",
   "execution_count": 0,
   "metadata": {
    "colab": {
     "autoexec": {
      "startup": false,
      "wait_interval": 0
     }
    },
    "colab_type": "code",
    "id": "E-rAG5cREOYp"
   },
   "outputs": [],
   "source": [
    "word_index = imdb.get_word_index()\n",
    "reverse_word_index = dict([(value, key) for (key, value) in word_index.items()])\n",
    "\n",
    "for k in range(40):\n",
    "  decoded_review = ' '.join([reverse_word_index.get(i - 3, '?') for i in X_test[k]])\n",
    "  if y_test[k] == 1:\n",
    "    print('positive')\n",
    "  else:\n",
    "    print('negative')\n",
    "  print(decoded_review)"
   ]
  },
  {
   "cell_type": "code",
   "execution_count": 0,
   "metadata": {
    "colab": {
     "autoexec": {
      "startup": false,
      "wait_interval": 0
     }
    },
    "colab_type": "code",
    "id": "0TSPhr9hCem8"
   },
   "outputs": [],
   "source": [
    "y_train = to_categorical(y_train, 2) # ラベル ⇛ one_hotベクトルへの変換."
   ]
  },
  {
   "cell_type": "code",
   "execution_count": 0,
   "metadata": {
    "colab": {
     "autoexec": {
      "startup": false,
      "wait_interval": 0
     }
    },
    "colab_type": "code",
    "id": "cGAU6lhSDkCC"
   },
   "outputs": [],
   "source": [
    "model = Sequential()\n",
    "model.add(Embedding(input_dim=max_features, output_dim=100, embeddings_initializer='glorot_uniform', input_length=maxlen))\n",
    "model.add(LSTM(32, return_sequences=False))\n",
    "model.add(Dense(2))\n",
    "model.add(Activation('softmax'))\n",
    "\n",
    "model.compile(loss='categorical_crossentropy',\n",
    "              optimizer='adam',\n",
    "              metrics=['accuracy'])\n",
    "\n",
    "lstm = model.fit(X_train, y_train, batch_size=256, epochs=5, validation_split=0.1)"
   ]
  },
  {
   "cell_type": "code",
   "execution_count": 0,
   "metadata": {
    "colab": {
     "autoexec": {
      "startup": false,
      "wait_interval": 0
     }
    },
    "colab_type": "code",
    "id": "WnONqezRF-S7"
   },
   "outputs": [],
   "source": [
    "model.summary()"
   ]
  },
  {
   "cell_type": "code",
   "execution_count": 0,
   "metadata": {
    "colab": {
     "autoexec": {
      "startup": false,
      "wait_interval": 0
     }
    },
    "colab_type": "code",
    "id": "sGl6Ceh0NMCt"
   },
   "outputs": [],
   "source": [
    "# 実際に文章 ⇛ id化 ⇛ モデルを用いたpredictをテストする\n",
    "\n",
    "# positive\n",
    "#test_sentence = \"the trademark altman audio style is evident here and there i think what really makes this film work is the brilliant performance by sandy dennis it's definitely one of her darker characters but she plays it so perfectly and convincingly that it's scary michael burns does a good job as the mute young man regular altman player michael murphy has a small part the ? moody set fits the content of the story very well in short this movie is a powerful study of loneliness sexual repression and desperation be patient ? up the atmosphere and pay attention to the wonderfully written script br br i praise robert altman this is one of his many films that deals with unconventional fascinating subject matter this film is disturbing but it's sincere and it's sure to elicit a strong emotional response from the viewer if you want to see an unusual film some might even say bizarre this is worth the time br br unfortunately it's very difficult to find in video stores you may have to buy it off the internet\"\n",
    "\n",
    "# negative\n",
    "test_sentence = \"this movie is very bad. don't go to watch this. so boaring. this is such a stupid movie, shit.\"\n",
    "\n",
    "\n",
    "# 数字に変換するメソッド\n",
    "def split_text(text):\n",
    "  result = []\n",
    "  for word in text.split():\n",
    "    word = word.lower()  # 小文字しか対応していないので、小文字化\n",
    "    \n",
    "    # 単語が変換すればindex化, 存在しなければ0\n",
    "    try:\n",
    "      index = word_index[word]\n",
    "    except(KeyError):\n",
    "      index = 0\n",
    "    result.append(index)\n",
    "      \n",
    "  return result\n",
    "\n",
    "x = [split_text(test_sentence)]\n",
    "x = sequence.pad_sequences(x, maxlen=maxlen)\n",
    "print(x) # ⇛ paddingされたid版の文章が見れる\n",
    "\n",
    "\n",
    "y = model.predict(x)\n",
    "print(y) # [ネガティブの確率、ポジティブの確率]"
   ]
  },
  {
   "cell_type": "code",
   "execution_count": 0,
   "metadata": {
    "colab": {
     "autoexec": {
      "startup": false,
      "wait_interval": 0
     }
    },
    "colab_type": "code",
    "id": "0T--f9jKPl_I"
   },
   "outputs": [],
   "source": []
  }
 ],
 "metadata": {
  "accelerator": "GPU",
  "colab": {
   "default_view": {},
   "name": "第7回_LSTM_classify_sentence.ipynb",
   "provenance": [],
   "version": "0.3.2",
   "views": {}
  },
  "kernelspec": {
   "display_name": "Python 3",
   "language": "python",
   "name": "python3"
  },
  "language_info": {
   "codemirror_mode": {
    "name": "ipython",
    "version": 3
   },
   "file_extension": ".py",
   "mimetype": "text/x-python",
   "name": "python",
   "nbconvert_exporter": "python",
   "pygments_lexer": "ipython3",
   "version": "3.6.8"
  },
  "toc": {
   "base_numbering": 1,
   "nav_menu": {},
   "number_sections": true,
   "sideBar": true,
   "skip_h1_title": false,
   "title_cell": "Table of Contents",
   "title_sidebar": "Contents",
   "toc_cell": false,
   "toc_position": {},
   "toc_section_display": true,
   "toc_window_display": false
  }
 },
 "nbformat": 4,
 "nbformat_minor": 1
}
